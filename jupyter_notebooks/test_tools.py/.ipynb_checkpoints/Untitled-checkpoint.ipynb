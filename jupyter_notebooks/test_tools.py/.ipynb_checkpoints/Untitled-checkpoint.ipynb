{
 "cells": [
  {
   "cell_type": "code",
   "execution_count": 1,
   "metadata": {},
   "outputs": [
    {
     "data": {
      "application/javascript": [
       "\n",
       "try {\n",
       "require(['notebook/js/codecell'], function(codecell) {\n",
       "  codecell.CodeCell.options_default.highlight_modes[\n",
       "      'magic_text/x-csrc'] = {'reg':[/^%%microblaze/]};\n",
       "  Jupyter.notebook.events.one('kernel_ready.Kernel', function(){\n",
       "      Jupyter.notebook.get_cells().map(function(cell){\n",
       "          if (cell.cell_type == 'code'){ cell.auto_highlight(); } }) ;\n",
       "  });\n",
       "});\n",
       "} catch (e) {};\n"
      ]
     },
     "metadata": {},
     "output_type": "display_data"
    },
    {
     "data": {
      "application/javascript": [
       "\n",
       "try {\n",
       "require(['notebook/js/codecell'], function(codecell) {\n",
       "  codecell.CodeCell.options_default.highlight_modes[\n",
       "      'magic_text/x-csrc'] = {'reg':[/^%%pybind11/]};\n",
       "  Jupyter.notebook.events.one('kernel_ready.Kernel', function(){\n",
       "      Jupyter.notebook.get_cells().map(function(cell){\n",
       "          if (cell.cell_type == 'code'){ cell.auto_highlight(); } }) ;\n",
       "  });\n",
       "});\n",
       "} catch (e) {};\n"
      ]
     },
     "metadata": {},
     "output_type": "display_data"
    }
   ],
   "source": [
    "# This file define some PYNQ LIBRARY method\n",
    "\n",
    "import os, subprocess, sys, re\n",
    "from pathlib import Path\n",
    "from pynq import Overlay\n",
    "\n",
    "BASE_DIR = Path('/home/xilinx/Django/pynq')\n",
    "\n",
    "PATH = BASE_DIR / 'tools/make'\n",
    "\n",
    "SOURCE_FILE_NAME = ['main.c', 'main.cpp', 'main.asm']\n",
    "\n",
    "base = None\n",
    "mem = None\n",
    "rst_rv = None\n",
    "rst_trace = None\n",
    "trace = None\n",
    "\n",
    "def init():\n",
    "    global base, mem, rst_rv, rst_trace, trace\n",
    "    base = Overlay(str(BASE_DIR / 'onboard.bit'))\n",
    "    mem = base.axi_bram_ctrl_1\n",
    "    rst_rv = base.axi_gpio_0\n",
    "    rst_trace = base.axi_gpio_1\n",
    "    trace = base.function_trace_0\n",
    "    \n",
    "\n",
    "def store(src, src_type):\n",
    "\n",
    "    for i in os.listdir(PATH):\n",
    "        if os.path.isfile(i) and i in SOURCE_FILE_NAME:\n",
    "            os.remove(PATH + i)\n",
    "\n",
    "    if src_type == 'C':\n",
    "        file_name = 'main.c'\n",
    "    elif src_type == 'CPP':\n",
    "        file_name = 'main.cpp'\n",
    "    elif src_type == 'ASM':\n",
    "        file_name = 'main.S'\n",
    "    else:\n",
    "        return\n",
    "\n",
    "    with open(PATH / file_name, 'w') as f:\n",
    "        f.write(src)\n",
    "\n",
    "def mark():\n",
    "    input_array = []\n",
    "    return_array = []\n",
    "    pattern = re.compile(r\"^(?P<address>[{0-9a-f]{8}) <(?P<func>.*)>:\")\n",
    "    ret_pattern = re.compile(r'(?P<addr>([0-9a-f]+)):\\s+[0-9a-f]{8}\\s+ret')\n",
    "    last_function_name = ''\n",
    "    last_start_point = 0\n",
    "    with open(PATH / 'asm.asm', 'r') as f:\n",
    "        for i in f.readlines():\n",
    "            z = pattern.match(i)\n",
    "            if z is not None:\n",
    "                address = z.group(\"address\")\n",
    "                function_name = z.group(\"func\")\n",
    "                last_function_name = function_name\n",
    "                last_start_point = int(address, 16)\n",
    "            z = ret_pattern.search(i)\n",
    "            if z is not None:\n",
    "                input_array.append(last_start_point)\n",
    "                input_array.append(int(z.group('addr'), 16))\n",
    "                return_array.append({'name': last_function_name, 'type': 'start'})\n",
    "                return_array.append({'name': last_function_name, 'type': 'end'})\n",
    "    return {'input': input_array, 'response': return_array}\n",
    "\n",
    "def make():\n",
    "    compile_path = BASE_DIR / 'tools/toolchain/bin'\n",
    "    with open('a.log', 'w') as f, open('b.log', 'w') as g:\n",
    "        subprocess.run(f'export PATH={BASE_DIR}/tools/xpack-riscv-none-elf-gcc-12.1.0-2/bin:$PATH;make', stdout=f, stderr=g, shell=True, cwd=PATH)\n",
    "    feedback = {}\n",
    "    with open('a.log', 'r') as f, open('b.log', 'r') as g:\n",
    "        err = g.read()\n",
    "        if(err == ''):\n",
    "            feedback['compile_feedback'] = 'Building Successful'\n",
    "            feedback['code'] = 0\n",
    "        else:\n",
    "            feedback['compile_feedback'] = err\n",
    "            feedback['code'] = 1\n",
    "    return feedback\n",
    "\n",
    "def build(src, src_type):\n",
    "    store(src, src_type)\n",
    "    return make()\n",
    "\n",
    "def upload():\n",
    "    base.load_ip_data('axi_bram_ctrl_1', PATH / 'main.bin')\n",
    "\n",
    "def run():\n",
    "    # Upload trace list\n",
    "    u = mark()\n",
    "    rst_trace.channel1.write(0, 0x1)\n",
    "    rst_rv.channel1.write(0, 0x1)\n",
    "    rst_trace.channel1.write(1, 0x1)\n",
    "    print(u['input'])\n",
    "    for i in u['input']:\n",
    "        trace.S_AXI.write(0x4, i)\n",
    "    trace.S_AXI.write(0x0, 1)\n",
    "    rst_rv.channel1.write(1, 0x1)\n",
    "    return u['response']\n",
    "\n",
    "def read_trace():\n",
    "    ret = [];\n",
    "    while(trace.S_AXI.read(0x14) != 0):\n",
    "        t_perf= trace.S_AXI.read(0x8)\n",
    "        t_sym = trace.S_AXI.read(0xc)\n",
    "        ret.append({'id': t_sym, 't': t_perf})\n",
    "    return ret\n",
    "\n",
    "# if __name__ == '__main__':\n",
    "#     init()\n",
    "#     upload()\n",
    "#     print(run())\n",
    "#     print(read_trace())"
   ]
  },
  {
   "cell_type": "code",
   "execution_count": 2,
   "metadata": {},
   "outputs": [
    {
     "ename": "OSError",
     "evalue": "Bitstream file /home/xilinx/Django/onboard.bit does not exist.",
     "output_type": "error",
     "traceback": [
      "\u001b[0;31m---------------------------------------------------------------------------\u001b[0m",
      "\u001b[0;31mOSError\u001b[0m                                   Traceback (most recent call last)",
      "\u001b[0;32m<ipython-input-2-ecd396ae1e7f>\u001b[0m in \u001b[0;36m<module>\u001b[0;34m()\u001b[0m\n\u001b[0;32m----> 1\u001b[0;31m \u001b[0minit\u001b[0m\u001b[0;34m(\u001b[0m\u001b[0;34m)\u001b[0m\u001b[0;34m\u001b[0m\u001b[0m\n\u001b[0m",
      "\u001b[0;32m<ipython-input-1-9672fb057808>\u001b[0m in \u001b[0;36minit\u001b[0;34m()\u001b[0m\n\u001b[1;32m     19\u001b[0m \u001b[0;32mdef\u001b[0m \u001b[0minit\u001b[0m\u001b[0;34m(\u001b[0m\u001b[0;34m)\u001b[0m\u001b[0;34m:\u001b[0m\u001b[0;34m\u001b[0m\u001b[0m\n\u001b[1;32m     20\u001b[0m     \u001b[0;32mglobal\u001b[0m \u001b[0mbase\u001b[0m\u001b[0;34m,\u001b[0m \u001b[0mmem\u001b[0m\u001b[0;34m,\u001b[0m \u001b[0mrst_rv\u001b[0m\u001b[0;34m,\u001b[0m \u001b[0mrst_trace\u001b[0m\u001b[0;34m,\u001b[0m \u001b[0mtrace\u001b[0m\u001b[0;34m\u001b[0m\u001b[0m\n\u001b[0;32m---> 21\u001b[0;31m     \u001b[0mbase\u001b[0m \u001b[0;34m=\u001b[0m \u001b[0mOverlay\u001b[0m\u001b[0;34m(\u001b[0m\u001b[0mstr\u001b[0m\u001b[0;34m(\u001b[0m\u001b[0mBASE_DIR\u001b[0m \u001b[0;34m/\u001b[0m \u001b[0;34m'onboard.bit'\u001b[0m\u001b[0;34m)\u001b[0m\u001b[0;34m)\u001b[0m\u001b[0;34m\u001b[0m\u001b[0m\n\u001b[0m\u001b[1;32m     22\u001b[0m     \u001b[0mmem\u001b[0m \u001b[0;34m=\u001b[0m \u001b[0mbase\u001b[0m\u001b[0;34m.\u001b[0m\u001b[0maxi_bram_ctrl_1\u001b[0m\u001b[0;34m\u001b[0m\u001b[0m\n\u001b[1;32m     23\u001b[0m     \u001b[0mrst_rv\u001b[0m \u001b[0;34m=\u001b[0m \u001b[0mbase\u001b[0m\u001b[0;34m.\u001b[0m\u001b[0maxi_gpio_0\u001b[0m\u001b[0;34m\u001b[0m\u001b[0m\n",
      "\u001b[0;32m/usr/local/lib/python3.6/dist-packages/pynq/overlay.py\u001b[0m in \u001b[0;36m__init__\u001b[0;34m(self, bitfile_name, dtbo, download, ignore_version, device)\u001b[0m\n\u001b[1;32m    335\u001b[0m \u001b[0;34m\u001b[0m\u001b[0m\n\u001b[1;32m    336\u001b[0m         \"\"\"\n\u001b[0;32m--> 337\u001b[0;31m         \u001b[0msuper\u001b[0m\u001b[0;34m(\u001b[0m\u001b[0;34m)\u001b[0m\u001b[0;34m.\u001b[0m\u001b[0m__init__\u001b[0m\u001b[0;34m(\u001b[0m\u001b[0mbitfile_name\u001b[0m\u001b[0;34m,\u001b[0m \u001b[0mdtbo\u001b[0m\u001b[0;34m,\u001b[0m \u001b[0mpartial\u001b[0m\u001b[0;34m=\u001b[0m\u001b[0;32mFalse\u001b[0m\u001b[0;34m,\u001b[0m \u001b[0mdevice\u001b[0m\u001b[0;34m=\u001b[0m\u001b[0mdevice\u001b[0m\u001b[0;34m)\u001b[0m\u001b[0;34m\u001b[0m\u001b[0m\n\u001b[0m\u001b[1;32m    338\u001b[0m \u001b[0;34m\u001b[0m\u001b[0m\n\u001b[1;32m    339\u001b[0m         \u001b[0mself\u001b[0m\u001b[0;34m.\u001b[0m\u001b[0m_register_drivers\u001b[0m\u001b[0;34m(\u001b[0m\u001b[0;34m)\u001b[0m\u001b[0;34m\u001b[0m\u001b[0m\n",
      "\u001b[0;32m/usr/local/lib/python3.6/dist-packages/pynq/bitstream.py\u001b[0m in \u001b[0;36m__init__\u001b[0;34m(self, bitfile_name, dtbo, partial, device)\u001b[0m\n\u001b[1;32m    136\u001b[0m         \u001b[0;32melse\u001b[0m\u001b[0;34m:\u001b[0m\u001b[0;34m\u001b[0m\u001b[0m\n\u001b[1;32m    137\u001b[0m             raise IOError('Bitstream file {} does not exist.'.format(\n\u001b[0;32m--> 138\u001b[0;31m                 bitfile_name))\n\u001b[0m\u001b[1;32m    139\u001b[0m \u001b[0;34m\u001b[0m\u001b[0m\n\u001b[1;32m    140\u001b[0m         \u001b[0;32mif\u001b[0m \u001b[0mbitfile_abs\u001b[0m \u001b[0;32mand\u001b[0m \u001b[0mbitfile_overlay_abs_lst\u001b[0m \u001b[0;32mor\u001b[0m\u001b[0;31m \u001b[0m\u001b[0;31m\\\u001b[0m\u001b[0;34m\u001b[0m\u001b[0m\n",
      "\u001b[0;31mOSError\u001b[0m: Bitstream file /home/xilinx/Django/onboard.bit does not exist."
     ]
    }
   ],
   "source": [
    "init()"
   ]
  },
  {
   "cell_type": "code",
   "execution_count": null,
   "metadata": {},
   "outputs": [],
   "source": []
  }
 ],
 "metadata": {
  "kernelspec": {
   "display_name": "Python 3",
   "language": "python",
   "name": "python3"
  },
  "language_info": {
   "codemirror_mode": {
    "name": "ipython",
    "version": 3
   },
   "file_extension": ".py",
   "mimetype": "text/x-python",
   "name": "python",
   "nbconvert_exporter": "python",
   "pygments_lexer": "ipython3",
   "version": "3.6.5"
  }
 },
 "nbformat": 4,
 "nbformat_minor": 2
}
