{
 "cells": [
  {
   "cell_type": "code",
   "execution_count": 1,
   "id": "bf0a7e93",
   "metadata": {},
   "outputs": [
    {
     "data": {
      "application/javascript": [
       "\n",
       "try {\n",
       "require(['notebook/js/codecell'], function(codecell) {\n",
       "  codecell.CodeCell.options_default.highlight_modes[\n",
       "      'magic_text/x-csrc'] = {'reg':[/^%%microblaze/]};\n",
       "  Jupyter.notebook.events.one('kernel_ready.Kernel', function(){\n",
       "      Jupyter.notebook.get_cells().map(function(cell){\n",
       "          if (cell.cell_type == 'code'){ cell.auto_highlight(); } }) ;\n",
       "  });\n",
       "});\n",
       "} catch (e) {};\n"
      ]
     },
     "metadata": {},
     "output_type": "display_data"
    },
    {
     "data": {
      "application/javascript": [
       "\n",
       "try {\n",
       "require(['notebook/js/codecell'], function(codecell) {\n",
       "  codecell.CodeCell.options_default.highlight_modes[\n",
       "      'magic_text/x-csrc'] = {'reg':[/^%%pybind11/]};\n",
       "  Jupyter.notebook.events.one('kernel_ready.Kernel', function(){\n",
       "      Jupyter.notebook.get_cells().map(function(cell){\n",
       "          if (cell.cell_type == 'code'){ cell.auto_highlight(); } }) ;\n",
       "  });\n",
       "});\n",
       "} catch (e) {};\n"
      ]
     },
     "metadata": {},
     "output_type": "display_data"
    }
   ],
   "source": [
    "#import ipdb # alternative to pdb that works in jupyter notebook (pip3 install ipdb)\n",
    "import os, subprocess, sys, re, time\n",
    "from pathlib import Path\n",
    "from pynq import Overlay\n",
    "from pynq import allocate\n",
    "from threading import Thread\n",
    "from queue import Queue\n",
    "\n",
    "from dma_receiver import DmaReceiver\n",
    "\n",
    "BASE_DIR = Path('/home/xilinx/Django/pynq')\n",
    "\n",
    "PATH = BASE_DIR / 'tools/make'\n",
    "\n",
    "base = Overlay(str(BASE_DIR / 'dma_test.bit'))\n",
    "#base = Overlay(str(BASE_DIR / 'onboard.bit'))\n",
    "\n",
    "\n",
    "FIFO_SIZE = 26\n",
    "input_buffer = allocate(shape=(FIFO_SIZE,), dtype='u8')\n",
    "output_buffer = allocate(shape=(FIFO_SIZE,), dtype='u8')\n",
    "\n",
    "dma_send = base.axi_dma_0.sendchannel\n",
    "dma_rec = base.axi_dma_0.recvchannel\n",
    "\n",
    "def print_dma_channel_status(channel, name='dma'):\n",
    "    print(f'{name}.running =', channel.running)\n",
    "    print(f'{name}.idle =', channel.idle)\n",
    "    print(f'{name}.error =', channel.error)\n",
    "    print(f'status =', hex(channel._mmio.read(channel._offset + 4)))\n",
    "    \n",
    "def print_dma_channels_status():\n",
    "    print_dma_channel_status(dma_rec, name='dma_rec')\n",
    "    print()\n",
    "    print_dma_channel_status(dma_send, name='dma_send')\n",
    "\n",
    "gpio_counts = base.axi_gpio_counts\n",
    "gpio_flags = base.axi_gpio_flags\n",
    "\n",
    "def print_flags():\n",
    "    print('almost_empty =', gpio_flags[0].read())\n",
    "    print('prog_empty =', gpio_flags[1].read())\n",
    "    print('almost_full =', gpio_flags[2].read())\n",
    "    print('prog_full =', gpio_flags[3].read())\n",
    "    \n",
    "write_count_channel = gpio_counts.channel1\n",
    "read_count_channel = gpio_counts.channel2\n",
    "def read_count():\n",
    "    print('read count =', read_count_channel.read())\n",
    "def write_count():\n",
    "    print('write count =', write_count_channel.read())\n",
    "\n",
    "input_buffers = [ allocate(shape=(16,), dtype='u8') for i in range(2) ]\n",
    "output_buffer = allocate(shape=(16,), dtype='u8')\n",
    "\n",
    "def print_buffers():\n",
    "    #print('input_buffer =', ', '.join(f'{i:08X}' for i in input_buffer))\n",
    "    #print('output_buffer =', ', '.join(f'{i:08X}' for i in output_buffer))\n",
    "    print('input_buffer =', input_buffer)\n",
    "    print('output_buffer =', output_buffer)\n",
    "\n",
    "def print_stats():\n",
    "    read_count()\n",
    "    write_count()\n",
    "    #print_flags()\n",
    "    print()\n",
    "    print_dma_channels_status()\n",
    "    print_buffers()\n",
    "    print()\n",
    "    \n",
    "\n",
    "\n",
    "# class DmaReceiver:\n",
    "#     ACK = 0xFF\n",
    "#     def __init__(self, dma, buffer_count=2, allocate_args=[], allocate_kwargs={'shape':(16,), 'dtype':'u8'}):\n",
    "#         self.dma = dma\n",
    "#         self.buffer_count = buffer_count\n",
    "        \n",
    "#         # item_size = the number of bytes in a single FIFO item\n",
    "#         self.item_size = int( re.search('\\d+$', allocate_kwargs.get('dtype') ).group(0) ) \n",
    "        \n",
    "#         # input buffers\n",
    "#         self.ibs = [allocate(*allocate_args, **allocate_kwargs) for _ in range(buffer_count)]\n",
    "#         self.ib_queues = [Queue() for _ in range(buffer_count)]\n",
    "        \n",
    "#         self.rec_len_queue = Queue()\n",
    "#         self.recv_thread = Thread(target=self.recv_thread, daemon=True)\n",
    "#         self.recv_thread.start()\n",
    "#         self.copying_thread = Thread(target=self.copying_thread, daemon=True)\n",
    "#         self.copying_thread.start()\n",
    "        \n",
    "#         self.out_data_lock = Lock()\n",
    "#         self.out_data = []\n",
    "    \n",
    "#     def recv_thread(self):\n",
    "#         dma_rec = self.dma.recvchannel\n",
    "#         active_ib = 0\n",
    "#         while True:\n",
    "#             ib = self.ibs[active_ib]\n",
    "#             ib_queue = self.ib_queues[active_ib]\n",
    "#             active_ib += 1\n",
    "#             active_ib %= self.buffer_count\n",
    "            \n",
    "#             # if input buffer was used previously and received data wasn't copied to \"self.out_data\"\n",
    "#             # then wait until that happens before issuing another transfer\n",
    "#             while not ib_queue.empty():\n",
    "#                 time.sleep(0.001)\n",
    "#             dma_rec.transfer(ib)\n",
    "#             dma_rec.wait()\n",
    "#             bytes_count = self.get_last_recv_length()\n",
    "#             ib_queue.put(1)\n",
    "#             self.rec_len_queue.put(bytes_count)\n",
    "    \n",
    "#     def copying_thread(self):\n",
    "#         active_ib = 0\n",
    "#         while True:\n",
    "#             ib = self.ibs[active_ib]\n",
    "#             ib_queue = self.ib_queues[active_ib]\n",
    "#             active_ib += 1\n",
    "#             active_ib %= self.buffer_count\n",
    "#             bytes_count = self.rec_len_queue.get(block=True) # blocking\n",
    "#             data = list(ib[:bytes_count]) # make a copy of data\n",
    "#             ib_queue.get(block=True) # allow another transfer for the same input buffer\n",
    "#             with self.out_data_lock:\n",
    "#                 self.out_data.extend(data)                      \n",
    "        \n",
    "#     def get_last_recv_length(self):\n",
    "#         # dma = base.axi_dma_0\n",
    "#         # 0x58 is the address of S2MM_length as shown in the table from:\n",
    "#         # https://docs.xilinx.com/r/en-US/pg021_axi_dma/AXI-DMA-Register-Address-Map\n",
    "#         return self.dma.mmio.read(0x58) // self.item_size\n",
    "    \n",
    "#     def data_available(self):\n",
    "#         with self.out_data_lock:\n",
    "#             return len(self.out_data) != 0\n",
    "        \n",
    "#     def get(self):\n",
    "#         while not self.data_available():\n",
    "#             time.sleep(0.001)\n",
    "#         with self.out_data_lock:\n",
    "#             data = list(self.out_data)\n",
    "#             self.out_data = []\n",
    "#             return data\n",
    "\n"
   ]
  },
  {
   "cell_type": "code",
   "execution_count": 2,
   "id": "87bd5e84",
   "metadata": {},
   "outputs": [],
   "source": [
    "base?"
   ]
  },
  {
   "cell_type": "code",
   "execution_count": 2,
   "id": "c6761907",
   "metadata": {},
   "outputs": [
    {
     "name": "stdout",
     "output_type": "stream",
     "text": [
      "original took: 5.256540536880493\n",
      "DmaReceiver took: 4.585379600524902\n"
     ]
    }
   ],
   "source": [
    "output_buffer[:] = [i+0xFFFAFF for i in range(1, len(output_buffer)+1)]\n",
    "\n",
    "\n",
    "def original_speed_test(n=5):\n",
    "    data = []\n",
    "    for i in range(n):        \n",
    "        dma_send.transfer(output_buffer)\n",
    "        dma_rec.transfer(input_buffer)\n",
    "        dma_send.wait()\n",
    "        dma_rec.wait()\n",
    "        data.extend(input_buffer.tolist())\n",
    "\n",
    "def dma_receiver_speed_test(n=5):\n",
    "    data = []\n",
    "    for i in range(n):\n",
    "        dma_send.transfer(output_buffer)\n",
    "        dma_send.wait()        \n",
    "        data.extend( dma_receiver.get() )\n",
    "\n",
    "    \n",
    "#     def receiver_thread():\n",
    "#         dma_receiver = DmaReceiver(base.axi_dma_0, buffer_count=2)\n",
    "#         for i in range(n):\n",
    "#             print('receiver_thread i=',i)\n",
    "#             data.extend( dma_receiver.get() )\n",
    "#             print('receiver_thread after i=',i)\n",
    "#     rt = Thread(target=receiver_thread, daemon=True)\n",
    "#     rt.start()  \n",
    "#     for i in range(n):\n",
    "#         print('sending i=', i)\n",
    "#         dma_send.transfer(output_buffer)\n",
    "#         dma_send.wait()\n",
    "#     rt.join()\n",
    "\n",
    "start_time = time.time()\n",
    "original_speed_test(n=500)\n",
    "print('original took:', f'{time.time() - start_time}')\n",
    "\n",
    "dma_receiver = DmaReceiver(base.axi_dma_0, buffer_count=4)\n",
    "\n",
    "start_time = time.time()\n",
    "dma_receiver_speed_test(n=500)\n",
    "print('DmaReceiver took:', f'{time.time() - start_time}')"
   ]
  },
  {
   "cell_type": "code",
   "execution_count": 2,
   "id": "e8c40cf5",
   "metadata": {},
   "outputs": [],
   "source": [
    "def receiver_thread(base):\n",
    "    dma_receiver = DmaReceiver(base.axi_dma_0)\n",
    "    while True:\n",
    "        print( dma_receiver.get() )\n",
    "    \n",
    "rt = Thread(target=receiver_thread, args=[base], daemon=True)\n",
    "rt.start()"
   ]
  },
  {
   "cell_type": "code",
   "execution_count": 2,
   "id": "910e7341",
   "metadata": {},
   "outputs": [],
   "source": [
    "def receiver_thread():\n",
    "    dma_rec.transfer(input_buffer, nbytes=8)\n",
    "    dma_rec.wait()\n",
    "    \n",
    "rt = Thread(target=receiver_thread, daemon=True)\n",
    "rt.start()"
   ]
  },
  {
   "cell_type": "code",
   "execution_count": 4,
   "id": "83bed2c8",
   "metadata": {
    "scrolled": true
   },
   "outputs": [],
   "source": [
    "output_buffer[:] = [i+0 for i in range(1, len(output_buffer)+1)]\n",
    "dma_send.transfer(output_buffer)\n",
    "dma_send.wait()"
   ]
  },
  {
   "cell_type": "code",
   "execution_count": 3,
   "id": "b5d65e3f",
   "metadata": {
    "scrolled": true
   },
   "outputs": [],
   "source": [
    "dma_rec.transfer(input_buffer)#, nbytes=8*26)\n",
    "dma_rec.wait()"
   ]
  },
  {
   "cell_type": "code",
   "execution_count": 2,
   "id": "3ac6b9f2",
   "metadata": {
    "scrolled": true
   },
   "outputs": [
    {
     "data": {
      "text/plain": [
       "RegisterMap {\n",
       "  MM2S_DMACR = Register(RS=1, Reset=0, Keyhole=0, Cyclic_BD_Enable=0, IOC_IrqEn=0, Dly_IrqEn=0, Err_IrqEn=0, IRQThreshold=1, IRQDelay=0),\n",
       "  MM2S_DMASR = Register(Halted=0, Idle=0, SGIncld=0, DMAIntErr=0, DMASlvErr=0, DMADecErr=0, SGIntErr=0, SGSlvErr=0, SGDecErr=0, IOC_Irq=0, Dly_Irq=0, Err_Irq=0, IRQThresholdSts=0, IRQDelaySts=0),\n",
       "  MM2S_CURDESC = Register(Current_Descriptor_Pointer=0),\n",
       "  MM2S_CURDESC_MSB = Register(Current_Descriptor_Pointer=0),\n",
       "  MM2S_TAILDESC = Register(Tail_Descriptor_Pointer=0),\n",
       "  MM2S_TAILDESC_MSB = Register(Tail_Descriptor_Pointer=0),\n",
       "  MM2S_SA = Register(Source_Address=0),\n",
       "  MM2S_SA_MSB = Register(Source_Address=0),\n",
       "  MM2S_LENGTH = Register(Length=0),\n",
       "  SG_CTL = Register(SG_CACHE=0, SG_USER=0),\n",
       "  S2MM_DMACR = Register(RS=1, Reset=0, Keyhole=0, Cyclic_BD_Enable=0, IOC_IrqEn=0, Dly_IrqEn=0, Err_IrqEn=0, IRQThreshold=1, IRQDelay=0),\n",
       "  S2MM_DMASR = Register(Halted=0, Idle=0, SGIncld=0, DMAIntErr=0, DMASlvErr=0, DMADecErr=0, SGIntErr=0, SGSlvErr=0, SGDecErr=0, IOC_Irq=0, Dly_Irq=0, Err_Irq=0, IRQThresholdSts=0, IRQDelaySts=0),\n",
       "  S2MM_CURDESC = Register(Current_Descriptor_Pointer=0),\n",
       "  S2MM_CURDESC_MSB = Register(Current_Descriptor_Pointer=0),\n",
       "  S2MM_TAILDESC = Register(Tail_Descriptor_Pointer=0),\n",
       "  S2MM_TAILDESC_MSB = Register(Tail_Descriptor_Pointer=0),\n",
       "  S2MM_DA = Register(Destination_Address=0),\n",
       "  S2MM_DA_MSB = Register(Destination_Address=0),\n",
       "  S2MM_LENGTH = Register(Length=0)\n",
       "}"
      ]
     },
     "execution_count": 2,
     "metadata": {},
     "output_type": "execute_result"
    }
   ],
   "source": [
    "base.axi_dma_0.register_map"
   ]
  },
  {
   "cell_type": "code",
   "execution_count": 7,
   "id": "d4831728",
   "metadata": {},
   "outputs": [
    {
     "data": {
      "text/plain": [
       "128"
      ]
     },
     "execution_count": 7,
     "metadata": {},
     "output_type": "execute_result"
    }
   ],
   "source": [
    "base.axi_dma_0.sendchannel.transferred"
   ]
  },
  {
   "cell_type": "code",
   "execution_count": 3,
   "id": "e5edd338",
   "metadata": {},
   "outputs": [
    {
     "name": "stdout",
     "output_type": "stream",
     "text": [
      "read count = 0\n",
      "write count = 0\n",
      "almost_empty = 1\n",
      "prog_empty = 1\n",
      "almost_full = 0\n",
      "prog_full = 0\n",
      "\n",
      "dma_rec.running = True\n",
      "dma_rec.idle = False\n",
      "dma_rec.error = False\n",
      "status = 0x0\n",
      "\n",
      "dma_send.running = True\n",
      "dma_send.idle = False\n",
      "dma_send.error = False\n",
      "status = 0x0\n",
      "input_buffer = [0 0 0 0 0 0 0 0 0 0 0 0 0 0 0 0]\n",
      "output_buffer = [0 0 0 0 0 0 0 0 0 0 0 0 0 0 0 0]\n",
      "\n"
     ]
    }
   ],
   "source": [
    "print_stats()"
   ]
  },
  {
   "cell_type": "code",
   "execution_count": 3,
   "id": "247e0abd",
   "metadata": {},
   "outputs": [
    {
     "data": {
      "text/plain": [
       "RegisterMap {\n",
       "  MM2S_DMACR = Register(RS=1, Reset=0, Keyhole=0, Cyclic_BD_Enable=0, IOC_IrqEn=0, Dly_IrqEn=0, Err_IrqEn=0, IRQThreshold=1, IRQDelay=0),\n",
       "  MM2S_DMASR = Register(Halted=0, Idle=0, SGIncld=0, DMAIntErr=0, DMASlvErr=0, DMADecErr=0, SGIntErr=0, SGSlvErr=0, SGDecErr=0, IOC_Irq=0, Dly_Irq=0, Err_Irq=0, IRQThresholdSts=0, IRQDelaySts=0),\n",
       "  MM2S_CURDESC = Register(Current_Descriptor_Pointer=0),\n",
       "  MM2S_CURDESC_MSB = Register(Current_Descriptor_Pointer=0),\n",
       "  MM2S_TAILDESC = Register(Tail_Descriptor_Pointer=0),\n",
       "  MM2S_TAILDESC_MSB = Register(Tail_Descriptor_Pointer=0),\n",
       "  MM2S_SA = Register(Source_Address=0),\n",
       "  MM2S_SA_MSB = Register(Source_Address=0),\n",
       "  MM2S_LENGTH = Register(Length=0),\n",
       "  SG_CTL = Register(SG_CACHE=0, SG_USER=0),\n",
       "  S2MM_DMACR = Register(RS=1, Reset=0, Keyhole=0, Cyclic_BD_Enable=0, IOC_IrqEn=0, Dly_IrqEn=0, Err_IrqEn=0, IRQThreshold=1, IRQDelay=0),\n",
       "  S2MM_DMASR = Register(Halted=0, Idle=0, SGIncld=0, DMAIntErr=0, DMASlvErr=0, DMADecErr=0, SGIntErr=0, SGSlvErr=0, SGDecErr=0, IOC_Irq=0, Dly_Irq=0, Err_Irq=0, IRQThresholdSts=0, IRQDelaySts=0),\n",
       "  S2MM_CURDESC = Register(Current_Descriptor_Pointer=0),\n",
       "  S2MM_CURDESC_MSB = Register(Current_Descriptor_Pointer=0),\n",
       "  S2MM_TAILDESC = Register(Tail_Descriptor_Pointer=0),\n",
       "  S2MM_TAILDESC_MSB = Register(Tail_Descriptor_Pointer=0),\n",
       "  S2MM_DA = Register(Destination_Address=1029844992),\n",
       "  S2MM_DA_MSB = Register(Destination_Address=0),\n",
       "  S2MM_LENGTH = Register(Length=8)\n",
       "}"
      ]
     },
     "execution_count": 3,
     "metadata": {},
     "output_type": "execute_result"
    }
   ],
   "source": [
    "base.axi_dma_0.register_map"
   ]
  },
  {
   "cell_type": "code",
   "execution_count": 5,
   "id": "71b821cb",
   "metadata": {},
   "outputs": [
    {
     "data": {
      "text/plain": [
       "RegisterMap {\n",
       "  MM2S_DMACR = Register(RS=0, Reset=0, Keyhole=0, Cyclic_BD_Enable=0, IOC_IrqEn=0, Dly_IrqEn=0, Err_IrqEn=0, IRQThreshold=1, IRQDelay=0),\n",
       "  MM2S_DMASR = Register(Halted=1, Idle=0, SGIncld=0, DMAIntErr=0, DMASlvErr=0, DMADecErr=0, SGIntErr=0, SGSlvErr=0, SGDecErr=0, IOC_Irq=1, Dly_Irq=0, Err_Irq=0, IRQThresholdSts=0, IRQDelaySts=0),\n",
       "  MM2S_CURDESC = Register(Current_Descriptor_Pointer=0),\n",
       "  MM2S_CURDESC_MSB = Register(Current_Descriptor_Pointer=0),\n",
       "  MM2S_TAILDESC = Register(Tail_Descriptor_Pointer=0),\n",
       "  MM2S_TAILDESC_MSB = Register(Tail_Descriptor_Pointer=0),\n",
       "  MM2S_SA = Register(Source_Address=1027735552),\n",
       "  MM2S_SA_MSB = Register(Source_Address=0),\n",
       "  MM2S_LENGTH = Register(Length=128),\n",
       "  SG_CTL = Register(SG_CACHE=0, SG_USER=0),\n",
       "  S2MM_DMACR = Register(RS=0, Reset=0, Keyhole=0, Cyclic_BD_Enable=0, IOC_IrqEn=0, Dly_IrqEn=0, Err_IrqEn=0, IRQThreshold=1, IRQDelay=0),\n",
       "  S2MM_DMASR = Register(Halted=1, Idle=0, SGIncld=0, DMAIntErr=1, DMASlvErr=0, DMADecErr=0, SGIntErr=0, SGSlvErr=0, SGDecErr=0, IOC_Irq=1, Dly_Irq=0, Err_Irq=1, IRQThresholdSts=0, IRQDelaySts=0),\n",
       "  S2MM_CURDESC = Register(Current_Descriptor_Pointer=0),\n",
       "  S2MM_CURDESC_MSB = Register(Current_Descriptor_Pointer=0),\n",
       "  S2MM_TAILDESC = Register(Tail_Descriptor_Pointer=0),\n",
       "  S2MM_TAILDESC_MSB = Register(Tail_Descriptor_Pointer=0),\n",
       "  S2MM_DA = Register(Destination_Address=1029844992),\n",
       "  S2MM_DA_MSB = Register(Destination_Address=0),\n",
       "  S2MM_LENGTH = Register(Length=8)\n",
       "}"
      ]
     },
     "execution_count": 5,
     "metadata": {},
     "output_type": "execute_result"
    }
   ],
   "source": [
    "base.axi_dma_0.register_map"
   ]
  },
  {
   "cell_type": "code",
   "execution_count": null,
   "id": "f8cd6beb",
   "metadata": {},
   "outputs": [],
   "source": []
  }
 ],
 "metadata": {
  "kernelspec": {
   "display_name": "Python 3",
   "language": "python",
   "name": "python3"
  },
  "language_info": {
   "codemirror_mode": {
    "name": "ipython",
    "version": 3
   },
   "file_extension": ".py",
   "mimetype": "text/x-python",
   "name": "python",
   "nbconvert_exporter": "python",
   "pygments_lexer": "ipython3",
   "version": "3.8.2"
  }
 },
 "nbformat": 4,
 "nbformat_minor": 5
}
