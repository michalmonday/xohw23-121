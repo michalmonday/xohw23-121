{
 "cells": [
  {
   "cell_type": "markdown",
   "metadata": {},
   "source": [
    "# Grove I2C Barometric Pressure Sensor module\n",
    "---"
   ]
  },
  {
   "cell_type": "markdown",
   "metadata": {},
   "source": [
    "## Aim\n",
    "\n",
    "* This notebook illustrates how to use available APIs for the Grove I2C Barometric Sensor module on PYNQ-Z2 PMOD py_interfaces.\n",
    "\n",
    "\n",
    "## References\n",
    "* [Grove I2C Barometer](https://www.seeedstudio.com/Grove-High-Precision-Barometer-Sensor-DPS310-p-4397.html)    \n",
    "* [PYNQ Grove Adapter](https://store.digilentinc.com/pynq-grove-system-add-on-board/)   \n",
    "* [Grove Base Shield V2.0](https://www.seeedstudio.com/Base-Shield-V2.html)   \n",
    "\n",
    "## Last revised\n",
    "* 27 July 2021\n",
    "    + Initial version\n",
    "---"
   ]
  },
  {
   "cell_type": "markdown",
   "metadata": {},
   "source": [
    "## Load _base_ Overlay"
   ]
  },
  {
   "cell_type": "markdown",
   "metadata": {},
   "source": [
    "<div class=\"alert alert-box alert-info\">\n",
    "Note that we load the base bitstream only once to use Grove module with PYNQ Grove Adapter and SEEED Grove Base Shield V2.0<br>\n",
    "Please make sure you run the following cell before running either of the py_interfaces \n",
    "</div>"
   ]
  },
  {
   "cell_type": "code",
   "execution_count": 1,
   "metadata": {},
   "outputs": [
    {
     "data": {
      "application/javascript": [
       "\n",
       "try {\n",
       "require(['notebook/js/codecell'], function(codecell) {\n",
       "  codecell.CodeCell.options_default.highlight_modes[\n",
       "      'magic_text/x-csrc'] = {'reg':[/^%%microblaze/]};\n",
       "  Jupyter.notebook.events.one('kernel_ready.Kernel', function(){\n",
       "      Jupyter.notebook.get_cells().map(function(cell){\n",
       "          if (cell.cell_type == 'code'){ cell.auto_highlight(); } }) ;\n",
       "  });\n",
       "});\n",
       "} catch (e) {};\n"
      ]
     },
     "metadata": {},
     "output_type": "display_data"
    },
    {
     "data": {
      "application/javascript": [
       "\n",
       "try {\n",
       "require(['notebook/js/codecell'], function(codecell) {\n",
       "  codecell.CodeCell.options_default.highlight_modes[\n",
       "      'magic_text/x-csrc'] = {'reg':[/^%%pybind11/]};\n",
       "  Jupyter.notebook.events.one('kernel_ready.Kernel', function(){\n",
       "      Jupyter.notebook.get_cells().map(function(cell){\n",
       "          if (cell.cell_type == 'code'){ cell.auto_highlight(); } }) ;\n",
       "  });\n",
       "});\n",
       "} catch (e) {};\n"
      ]
     },
     "metadata": {},
     "output_type": "display_data"
    }
   ],
   "source": [
    "from pynq.overlays.base import BaseOverlay\n",
    "from pynq_peripherals import ArduinoSEEEDGroveAdapter, PmodGroveAdapter\n",
    "base = BaseOverlay('base.bit')"
   ]
  },
  {
   "cell_type": "markdown",
   "metadata": {},
   "source": [
    "## Using Grove I2C Barometric Sensor with Grove Base Shield V2.0 (Arduino)"
   ]
  },
  {
   "cell_type": "markdown",
   "metadata": {},
   "source": [
    "<div class=\"alert alert-box alert-warning\"><ul>\n",
    "    <h4 class=\"alert-heading\">Make Physical Connections </h4>\n",
    "    <li>Insert the SEEED Grove Base Shield py_into the Arduino connector on the board. Connect the Grove I2C Barometric Sensor to one of the connectors labeled I2C.</li></ul>\n",
    "</div>"
   ]
  },
  {
   "cell_type": "markdown",
   "metadata": {},
   "source": [
    "### Adapter configuration"
   ]
  },
  {
   "cell_type": "code",
   "execution_count": 2,
   "metadata": {},
   "outputs": [],
   "source": [
    "adapter=ArduinoSEEEDGroveAdapter(base.ARDUINO, I2C='grove_barometer')"
   ]
  },
  {
   "cell_type": "markdown",
   "metadata": {},
   "source": [
    "### Define device object"
   ]
  },
  {
   "cell_type": "code",
   "execution_count": 3,
   "metadata": {},
   "outputs": [],
   "source": [
    "barometer = adapter.I2C"
   ]
  },
  {
   "cell_type": "markdown",
   "metadata": {},
   "source": [
    "### Reading from the Grove I2C Barometer"
   ]
  },
  {
   "cell_type": "markdown",
   "metadata": {},
   "source": [
    "#### Configure the barometric sensor for your application\n",
    "\n",
    "The Barometric sensor (DPS310) has three operationg modes:\n",
    "* Standby Mode (default)\n",
    "* Command Mode\n",
    "* Background Mode\n",
    "\n",
    "The type of measurement done by sensor can be set using below mapping:\n",
    "\n",
    "* o - Idle / Stop background measurement\n",
    "* Command Mode\n",
    "* 1 - Pressure measurement\n",
    "* 2 - Temperature measurement\n",
    "* 3 - na.\n",
    "* 4 - na.\n",
    "* * Background Mode\n",
    "* 5 - Continous pressure measurement\n",
    "* 7 - Continous temperature measurement\n",
    "* 8 - Continous pressure and temperature measurement\n",
    "\n",
    "Below table shows the supported oversample rate for temperature and pressure sampling to adjust presicion.\n",
    "This specifies the number of sensor measurements used py_internally to generate one sensor output result:\n",
    "\n",
    "* 0 - single sample (Default) - Measurement time 3.6 ms.\n",
    "* 1 - 2   samples per measurement\n",
    "* 2 - 4   samples per measurement\n",
    "* 3 - 8   samples per measurement\n",
    "* 4 - 16  samples per measurement\n",
    "* 5 - 32  samples per measurement\n",
    "* 6 - 64  samples per measurement\n",
    "* 7 - 128 samples per measurement\n",
    "\n",
    "It is possible to specify the number of measurement taken per second in case of Background Mode:\n",
    "\n",
    "* 0 - 1 measurements pr. sec.\n",
    "* 1 - 2 measurements pr. sec.\n",
    "* 2 - 4 measurements pr. sec.\n",
    "* 3 - 8 measurements pr. sec.\n",
    "* 4 - 16 measurements pr. sec.\n",
    "* 5 - 32 measurements pr. sec.\n",
    "* 6 - 64 measurements pr. sec.\n",
    "* 7 - 128 measurements pr. sec"
   ]
  },
  {
   "cell_type": "code",
   "execution_count": 44,
   "metadata": {},
   "outputs": [],
   "source": [
    "# Set pressure sensor oversample rate at 16 samples per measuremet \n",
    "barometer.pressure_oversample_rate(4) \n",
    "\n",
    "# Set remperature sensor oversample rate at 16 samples per measuremet \n",
    "barometer.temperature_oversample_rate(4) \n",
    "\n",
    "#configure the sensor\n",
    "if (barometer.configure()):\n",
    "    print(\"Error in Configurtion\")"
   ]
  },
  {
   "cell_type": "code",
   "execution_count": 16,
   "metadata": {},
   "outputs": [
    {
     "data": {
      "text/plain": [
       "841.88427734375"
      ]
     },
     "execution_count": 16,
     "metadata": {},
     "output_type": "execute_result"
    }
   ],
   "source": [
    "#get compesated pressure reading\n",
    "barometer.pressure()"
   ]
  },
  {
   "cell_type": "code",
   "execution_count": 17,
   "metadata": {},
   "outputs": [
    {
     "data": {
      "text/plain": [
       "30.626235961914062"
      ]
     },
     "execution_count": 17,
     "metadata": {},
     "output_type": "execute_result"
    }
   ],
   "source": [
    "#get compesated temperature reading\n",
    "barometer.temperature()"
   ]
  },
  {
   "cell_type": "markdown",
   "metadata": {},
   "source": [
    "---\n",
    "## Using Grove I2C Barometric Sensor with PYNQ Grove Adapter (PMOD)"
   ]
  },
  {
   "cell_type": "markdown",
   "metadata": {},
   "source": [
    "<div class=\"alert alert-box alert-warning\"><ul>\n",
    "    <h4 class=\"alert-heading\">Make Physical Connections </h4>\n",
    "    <li>Connect the PYNQ Grove Adapter to PMODB connector.  Connect the Grove I2C Barometric Sensor module to the G3 connector of the Adapter.</li></ul>\n",
    "</div>"
   ]
  },
  {
   "cell_type": "markdown",
   "metadata": {},
   "source": [
    "### Adapter configuration"
   ]
  },
  {
   "cell_type": "code",
   "execution_count": 60,
   "metadata": {},
   "outputs": [],
   "source": [
    "from pynq.overlays.base import BaseOverlay\n",
    "from pynq_peripherals import ArduinoSEEEDGroveAdapter, PmodGroveAdapter\n",
    "base = BaseOverlay('base.bit')"
   ]
  },
  {
   "cell_type": "code",
   "execution_count": 61,
   "metadata": {},
   "outputs": [],
   "source": [
    "adapter=PmodGroveAdapter(base.PMODB, G3='grove_barometer')"
   ]
  },
  {
   "cell_type": "markdown",
   "metadata": {},
   "source": [
    "### Define device object"
   ]
  },
  {
   "cell_type": "code",
   "execution_count": 62,
   "metadata": {},
   "outputs": [],
   "source": [
    "barometer=adapter.G3"
   ]
  },
  {
   "cell_type": "markdown",
   "metadata": {},
   "source": [
    "#### Configure the barometric sensor for your application"
   ]
  },
  {
   "cell_type": "code",
   "execution_count": 63,
   "metadata": {},
   "outputs": [],
   "source": [
    "# Set pressure sensor oversample rate at 16 samples per measuremet \n",
    "barometer.pressure_oversample_rate(4) \n",
    "\n",
    "# Set remperature sensor oversample rate at 16 samples per measuremet \n",
    "barometer.temperature_oversample_rate(4) \n",
    "\n",
    "#configure the sensor\n",
    "if (barometer.configure()):\n",
    "    print(\"Error in Configurtion\")"
   ]
  },
  {
   "cell_type": "markdown",
   "metadata": {},
   "source": [
    "### Reading from the Grove I2C Barometeric Sensor"
   ]
  },
  {
   "cell_type": "code",
   "execution_count": 64,
   "metadata": {},
   "outputs": [
    {
     "data": {
      "text/plain": [
       "840.4757690429688"
      ]
     },
     "execution_count": 64,
     "metadata": {},
     "output_type": "execute_result"
    }
   ],
   "source": [
    "#get compesated pressure reading\n",
    "barometer.pressure()"
   ]
  },
  {
   "cell_type": "code",
   "execution_count": 65,
   "metadata": {},
   "outputs": [
    {
     "data": {
      "text/plain": [
       "32.25743865966797"
      ]
     },
     "execution_count": 65,
     "metadata": {},
     "output_type": "execute_result"
    }
   ],
   "source": [
    "#get compesated temprature reading\n",
    "barometer.temperature()"
   ]
  },
  {
   "cell_type": "markdown",
   "metadata": {},
   "source": [
    "#### Using Fifo in Background mode"
   ]
  },
  {
   "cell_type": "code",
   "execution_count": 66,
   "metadata": {},
   "outputs": [],
   "source": [
    "# Set pressure sensor oversample rate at 16 samples per measuremet \n",
    "barometer.pressure_oversample_rate(7) \n",
    "\n",
    "# Set temperature sensor oversample rate at 16 samples per measuremet \n",
    "barometer.temperature_oversample_rate(7) \n",
    "\n",
    "# Set pressure sensor measurement rate at 16 samples per measuremet \n",
    "barometer.pressure_measurement_rate(7) \n",
    "\n",
    "# Set temperature sensor measurement rate at 16 samples per measuremet \n",
    "barometer.temperature_measurement_rate(7)  \n",
    "\n",
    "# Set sensor mode to background mode with temo and pressure continuous measurement \n",
    "barometer.mode(7) \n",
    "\n",
    "#configure the sensor\n",
    "if (barometer.configure()):\n",
    "    print(\"Error in Configurtion\")"
   ]
  },
  {
   "cell_type": "code",
   "execution_count": 67,
   "metadata": {},
   "outputs": [
    {
     "data": {
      "text/plain": [
       "0"
      ]
     },
     "execution_count": 67,
     "metadata": {},
     "output_type": "execute_result"
    }
   ],
   "source": [
    "barometer.enable_fifo(1)"
   ]
  },
  {
   "cell_type": "code",
   "execution_count": 68,
   "metadata": {},
   "outputs": [
    {
     "data": {
      "text/plain": [
       "0"
      ]
     },
     "execution_count": 68,
     "metadata": {},
     "output_type": "execute_result"
    }
   ],
   "source": [
    "#7 correspnds to continous pressure and temperature measurement\n",
    "barometer.start_conversion(7)"
   ]
  },
  {
   "cell_type": "code",
   "execution_count": 78,
   "metadata": {},
   "outputs": [
    {
     "data": {
      "image/png": "[encoded data removed]",
      "text/plain": [
       "<matplotlib.figure.Figure at 0xadd57ad0>"
      ]
     },
     "metadata": {},
     "output_type": "display_data"
    },
    {
     "data": {
      "image/png": "[encoded data removed]",
      "text/plain": [
       "<matplotlib.figure.Figure at 0xaa749e90>"
      ]
     },
     "metadata": {},
     "output_type": "display_data"
    }
   ],
   "source": [
    "%matplotlib inline\n",
    "import matplotlib.pyplot as plt\n",
    "import time\n",
    "pressure = []\n",
    "temperature = []\n",
    "time.sleep(2)\n",
    "sample = 2\n",
    "while (sample):\n",
    "    while (barometer.fifo_empty() == 0):\n",
    "        x= barometer.read_fifo()\n",
    "        if(x & 1):\n",
    "            pressure_raw = x\n",
    "        else:\n",
    "            temperature_raw = x\n",
    "        pressure.append(barometer.calculate_pressure(temperature_raw,pressure_raw))\n",
    "        temperature.append(barometer.calculate_temperature(temperature_raw,pressure_raw))\n",
    "    time.sleep(1)\n",
    "    sample = sample - 1\n",
    "    \n",
    "\n",
    "plt.plot(range(len(temperature)), temperature)\n",
    "plt.xlabel(\"time\")\n",
    "plt.ylabel(\"temperature\")\n",
    "plt.show()\n",
    "\n",
    "plt.plot(range(len(pressure)), pressure)\n",
    "plt.xlabel(\"time\")\n",
    "plt.ylabel(\"pressure\")\n",
    "plt.show()"
   ]
  },
  {
   "cell_type": "markdown",
   "metadata": {},
   "source": [
    "Copyright (C) 2021 Xilinx, Inc\n",
    "\n",
    "SPDX-License-Identifier: BSD-3-Clause"
   ]
  },
  {
   "cell_type": "markdown",
   "metadata": {},
   "source": [
    "----"
   ]
  },
  {
   "cell_type": "markdown",
   "metadata": {},
   "source": [
    "----"
   ]
  }
 ],
 "metadata": {
  "kernelspec": {
   "display_name": "Python 3",
   "language": "python",
   "name": "python3"
  },
  "language_info": {
   "codemirror_mode": {
    "name": "ipython",
    "version": 3
   },
   "file_extension": ".py",
   "mimetype": "text/x-python",
   "name": "python",
   "nbconvert_exporter": "python",
   "pygments_lexer": "ipython3",
   "version": "3.6.5"
  }
 },
 "nbformat": 4,
 "nbformat_minor": 4
}
